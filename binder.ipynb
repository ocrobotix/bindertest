{
 "cells": [
  {
   "cell_type": "code",
   "execution_count": 1,
   "id": "b01fc6af-76ec-47c8-b277-a338c69775e4",
   "metadata": {},
   "outputs": [
    {
     "name": "stdout",
     "output_type": "stream",
     "text": [
      "Hello Binder\n"
     ]
    }
   ],
   "source": [
    "print(\"Hello Binder\")\n"
   ]
  },
  {
   "cell_type": "code",
   "execution_count": null,
   "id": "883fc1ef-8426-4bc8-89e5-94ceb10b3265",
   "metadata": {},
   "outputs": [],
   "source": []
  }
 ],
 "metadata": {
  "kernelspec": {
   "display_name": "Python 3 (ipykernel)",
   "language": "python",
   "name": "python3"
  },
  "language_info": {
   "codemirror_mode": {
    "name": "ipython",
    "version": 3
   },
   "file_extension": ".py",
   "mimetype": "text/x-python",
   "name": "python",
   "nbconvert_exporter": "python",
   "pygments_lexer": "ipython3",
   "version": "3.10.12"
  }
 },
 "nbformat": 4,
 "nbformat_minor": 5
}
